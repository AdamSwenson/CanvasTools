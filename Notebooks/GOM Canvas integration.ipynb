{
 "cells": [
  {
   "cell_type": "code",
   "execution_count": null,
   "metadata": {},
   "outputs": [],
   "source": []
  },
  {
   "cell_type": "code",
   "execution_count": 10,
   "metadata": {
    "ExecuteTime": {
     "end_time": "2018-07-23T20:31:03.641126Z",
     "start_time": "2018-07-23T20:31:03.091206Z"
    }
   },
   "outputs": [],
   "source": [
    "import requests\n",
    "\n",
    "head = {'Authorization': 'Bearer {}'.format(myToken)}\n",
    "response = requests.get(myUrl, headers=head)"
   ]
  },
  {
   "cell_type": "code",
   "execution_count": null,
   "metadata": {},
   "outputs": [],
   "source": [
    "# https://canvas.instructure.com/doc/api/index.html\n",
    "# curl -H \"Authorization: Bearer <ACCESS-TOKEN>\" \"https://canvas.instructure.com/api/v1/courses\"\n",
    "\n",
    "# in query string:\n",
    "# curl \"https://canvas.instructure.com/api/v1/courses?access_token=<ACCESS-TOKEN>\""
   ]
  },
  {
   "cell_type": "code",
   "execution_count": null,
   "metadata": {},
   "outputs": [],
   "source": []
  },
  {
   "cell_type": "code",
   "execution_count": 11,
   "metadata": {
    "ExecuteTime": {
     "end_time": "2018-07-23T20:31:05.861647Z",
     "start_time": "2018-07-23T20:31:05.858486Z"
    }
   },
   "outputs": [
    {
     "name": "stdout",
     "output_type": "stream",
     "text": [
      "<Response [200]>\n"
     ]
    }
   ],
   "source": [
    "print(response)"
   ]
  },
  {
   "cell_type": "code",
   "execution_count": 12,
   "metadata": {
    "ExecuteTime": {
     "end_time": "2018-07-23T20:31:07.727869Z",
     "start_time": "2018-07-23T20:31:07.721988Z"
    },
    "collapsed": true
   },
   "outputs": [
    {
     "data": {
      "text/plain": [
       "[{'id': 45459,\n",
       "  'name': 'Kristal Anna Alconcel',\n",
       "  'sortable_name': 'Alconcel, Kristal Anna',\n",
       "  'short_name': 'Kristal Anna Alconcel',\n",
       "  'sis_user_id': '108938347',\n",
       "  'integration_id': None,\n",
       "  'login_id': 'kaa52563'},\n",
       " {'id': 118383,\n",
       "  'name': 'Michael Banuelos',\n",
       "  'sortable_name': 'Banuelos, Michael',\n",
       "  'short_name': 'Michael Banuelos',\n",
       "  'sis_user_id': '109851428',\n",
       "  'integration_id': None,\n",
       "  'login_id': 'mab8382'},\n",
       " {'id': 60892,\n",
       "  'name': 'Jesenia Barcenas Aviles',\n",
       "  'sortable_name': 'Barcenas Aviles, Jesenia',\n",
       "  'short_name': 'Jesenia Barcenas Aviles',\n",
       "  'sis_user_id': '109387328',\n",
       "  'integration_id': None,\n",
       "  'login_id': 'jb82411'},\n",
       " {'id': 99346,\n",
       "  'name': 'Naira Bedzhanyan',\n",
       "  'sortable_name': 'Bedzhanyan, Naira',\n",
       "  'short_name': 'Naira Bedzhanyan',\n",
       "  'sis_user_id': '200301926',\n",
       "  'integration_id': None,\n",
       "  'login_id': 'nb485474'},\n",
       " {'id': 97928,\n",
       "  'name': 'Benjamin Brema',\n",
       "  'sortable_name': 'Brema, Benjamin',\n",
       "  'short_name': 'Benjamin Brema',\n",
       "  'sis_user_id': '200184757',\n",
       "  'integration_id': None,\n",
       "  'login_id': 'bjb71715'},\n",
       " {'id': 95789,\n",
       "  'name': 'Jack Burleigh',\n",
       "  'sortable_name': 'Burleigh, Jack',\n",
       "  'short_name': 'Jack Burleigh',\n",
       "  'sis_user_id': '200071735',\n",
       "  'integration_id': None,\n",
       "  'login_id': 'jlb12640'},\n",
       " {'id': 79197,\n",
       "  'name': 'Joseph James Carlos',\n",
       "  'sortable_name': 'Carlos, Joseph James',\n",
       "  'short_name': 'Joseph James Carlos',\n",
       "  'sis_user_id': '109212452',\n",
       "  'integration_id': None,\n",
       "  'login_id': 'jpc54919'},\n",
       " {'id': 91136,\n",
       "  'name': 'Vahag Chakerian',\n",
       "  'sortable_name': 'Chakerian, Vahag',\n",
       "  'short_name': 'Vahag Chakerian',\n",
       "  'sis_user_id': '104783820',\n",
       "  'integration_id': None,\n",
       "  'login_id': 'vhc80984'},\n",
       " {'id': 13099,\n",
       "  'name': 'Tho Dinh',\n",
       "  'sortable_name': 'Dinh, Tho',\n",
       "  'short_name': 'Tho Dinh',\n",
       "  'sis_user_id': '104167685',\n",
       "  'integration_id': None,\n",
       "  'login_id': 'td398571'},\n",
       " {'id': 51895,\n",
       "  'name': 'Truc Doan',\n",
       "  'sortable_name': 'Doan, Truc',\n",
       "  'short_name': 'Truc Doan',\n",
       "  'sis_user_id': '109675382',\n",
       "  'integration_id': None,\n",
       "  'login_id': 'tnd2775'}]"
      ]
     },
     "execution_count": 12,
     "metadata": {},
     "output_type": "execute_result"
    }
   ],
   "source": [
    "response.json()"
   ]
  },
  {
   "cell_type": "code",
   "execution_count": null,
   "metadata": {},
   "outputs": [],
   "source": [
    "def make_root_url(course_id):\n",
    "    canvas_root_url = \"https://canvas.csun.edu/courses/%s/\" % course_id\n",
    "    return canvas_root_url"
   ]
  },
  {
   "cell_type": "code",
   "execution_count": null,
   "metadata": {},
   "outputs": [],
   "source": [
    "# Get students\n",
    "# GET /api/v1/courses/:course_id/search_users "
   ]
  },
  {
   "cell_type": "code",
   "execution_count": null,
   "metadata": {},
   "outputs": [],
   "source": [
    "course_id = 41179\n"
   ]
  },
  {
   "cell_type": "markdown",
   "metadata": {},
   "source": [
    "# Assignments\n",
    "\n",
    "https://canvas.instructure.com/doc/api/assignments.html"
   ]
  },
  {
   "cell_type": "code",
   "execution_count": null,
   "metadata": {},
   "outputs": [],
   "source": [
    "# Get assignment list\n",
    "#  GET /api/v1/courses/:course_id/assignments "
   ]
  },
  {
   "cell_type": "code",
   "execution_count": null,
   "metadata": {},
   "outputs": [],
   "source": []
  },
  {
   "cell_type": "code",
   "execution_count": null,
   "metadata": {},
   "outputs": [],
   "source": [
    "#  create assignment\n",
    "# GET /api/v1/courses/:course_id/assignments/:id "
   ]
  }
 ],
 "metadata": {
  "kernelspec": {
   "display_name": "Python 3",
   "language": "python",
   "name": "python3"
  },
  "language_info": {
   "codemirror_mode": {
    "name": "ipython",
    "version": 3
   },
   "file_extension": ".py",
   "mimetype": "text/x-python",
   "name": "python",
   "nbconvert_exporter": "python",
   "pygments_lexer": "ipython3",
   "version": "3.6.4"
  },
  "latex_envs": {
   "LaTeX_envs_menu_present": true,
   "autoclose": false,
   "autocomplete": true,
   "bibliofile": "biblio.bib",
   "cite_by": "apalike",
   "current_citInitial": 1.0,
   "eqLabelWithNumbers": true,
   "eqNumInitial": 1.0,
   "hotkeys": {
    "equation": "Ctrl-E",
    "itemize": "Ctrl-I"
   },
   "labels_anchors": false,
   "latex_user_defs": false,
   "report_style_numbering": false,
   "user_envs_cfg": false
  },
  "toc": {
   "base_numbering": 1.0,
   "nav_menu": {},
   "number_sections": true,
   "sideBar": true,
   "skip_h1_title": false,
   "title_cell": "Table of Contents",
   "title_sidebar": "Contents",
   "toc_cell": false,
   "toc_position": {},
   "toc_section_display": true,
   "toc_window_display": false
  }
 },
 "nbformat": 4,
 "nbformat_minor": 2
}
