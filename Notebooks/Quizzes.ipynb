{
 "cells": [
  {
   "cell_type": "code",
   "execution_count": 3,
   "metadata": {
    "ExecuteTime": {
     "end_time": "2018-09-21T00:08:43.234586Z",
     "start_time": "2018-09-21T00:08:43.227582Z"
    }
   },
   "outputs": [
    {
     "name": "stdout",
     "output_type": "stream",
     "text": [
      "/Users/adam/Dropbox/CanvasTools\n",
      "Reading credentials from /Users/adam/Dropbox/CanvasTools/private/canvas-credentials.ini\n"
     ]
    }
   ],
   "source": [
    "%cd ~/Dropbox/CanvasTools\n",
    "\n",
    "import environment\n",
    "import os\n",
    "import sys\n",
    "import configparser\n",
    "\n",
    "import requests\n",
    "\n",
    "# Load api token and section numbers\n",
    "print(\"Reading credentials from %s\" % environment.CREDENTIALS_FILE)\n",
    "config = configparser.ConfigParser()\n",
    "config.read( environment.CREDENTIALS_FILE)\n",
    "\n",
    "TOKEN = config['credentials'].get('TOKEN')\n",
    "SECTION_930 = config['sections'].getint('930')\n",
    "SECTION_1100 = config['sections'].getint('1100')\n",
    "SECTION_1230 = config['sections'].getint('1230')\n",
    "URL_BASE = config['url'].get('BASE')"
   ]
  },
  {
   "cell_type": "code",
   "execution_count": 4,
   "metadata": {
    "ExecuteTime": {
     "end_time": "2018-09-21T00:08:43.653643Z",
     "start_time": "2018-09-21T00:08:43.651066Z"
    }
   },
   "outputs": [],
   "source": [
    "from CanvasTools.UrlTools import make_url\n",
    "from CanvasTools.RequestTools import send_get_request"
   ]
  },
  {
   "cell_type": "markdown",
   "metadata": {},
   "source": [
    "# Get list of quizzes\n",
    "\n",
    " GET /api/v1/courses/:course_id/quizzes "
   ]
  },
  {
   "cell_type": "code",
   "execution_count": null,
   "metadata": {
    "ExecuteTime": {
     "end_time": "2018-09-20T18:22:15.540754Z",
     "start_time": "2018-09-20T18:22:15.530415Z"
    }
   },
   "outputs": [],
   "source": [
    "def get_all_quizzes(course_id):\n",
    "    url = make_url(SECTION_930, 'quizzes')"
   ]
  },
  {
   "cell_type": "code",
   "execution_count": null,
   "metadata": {
    "ExecuteTime": {
     "end_time": "2018-09-20T18:56:56.521449Z",
     "start_time": "2018-09-20T18:56:56.518243Z"
    }
   },
   "outputs": [],
   "source": [
    "# Get quiz list\n",
    "def get_all_course_quizzes(course_id):\n",
    "    \"\"\"Returns a list of all the assignments for the course\n",
    "    Uses api: GET /api/v1/courses/:course_id/quizzes\n",
    "    \"\"\"\n",
    "    url = make_url(course_id, 'quizzes')\n",
    "    return send_get_request(url)\n",
    "\n",
    "\n",
    "def get_quiz(course_id, quiz_id):\n",
    "    \"\"\"Retrieves the specified quiz and returns it as a dictionary\"\"\"\n",
    "    url = make_url(course_id, 'quizzes')\n",
    "    url = \"%s/%s\" % (url, quiz_id)\n",
    "    print(url)\n",
    "#     return send_get_request(url)"
   ]
  },
  {
   "cell_type": "code",
   "execution_count": null,
   "metadata": {
    "ExecuteTime": {
     "end_time": "2018-09-20T18:29:06.693987Z",
     "start_time": "2018-09-20T18:29:04.977694Z"
    },
    "scrolled": true
   },
   "outputs": [],
   "source": [
    "get_all_course_quizzes(SECTION_930)"
   ]
  },
  {
   "cell_type": "code",
   "execution_count": null,
   "metadata": {
    "ExecuteTime": {
     "end_time": "2018-09-20T18:56:58.424351Z",
     "start_time": "2018-09-20T18:56:58.421384Z"
    }
   },
   "outputs": [],
   "source": [
    "get_quiz(SECTION_930, 100843)"
   ]
  },
  {
   "cell_type": "code",
   "execution_count": null,
   "metadata": {},
   "outputs": [],
   "source": [
    "# get all quiz submissions\n",
    "# /api/v1/courses/:course_id/quizzes/:quiz_id/submissions "
   ]
  },
  {
   "cell_type": "code",
   "execution_count": null,
   "metadata": {
    "ExecuteTime": {
     "end_time": "2018-09-20T23:07:36.069147Z",
     "start_time": "2018-09-20T23:07:36.065443Z"
    }
   },
   "outputs": [],
   "source": [
    "def get_quiz_submissions(course_id, quiz_id):\n",
    "    url = make_url(course_id, 'quizzes')\n",
    "    url = \"%s/%s/submissions\" % (url, quiz_id)\n",
    "    print(url)\n",
    "    return send_get_request(url)"
   ]
  },
  {
   "cell_type": "code",
   "execution_count": null,
   "metadata": {
    "ExecuteTime": {
     "end_time": "2018-09-20T23:07:38.209311Z",
     "start_time": "2018-09-20T23:07:37.615139Z"
    }
   },
   "outputs": [],
   "source": [
    "get_quiz_submissions(SECTION_930, 100843)"
   ]
  },
  {
   "cell_type": "code",
   "execution_count": null,
   "metadata": {},
   "outputs": [],
   "source": [
    " GET /api/v1/quiz_submissions/:quiz_submission_id/questions "
   ]
  },
  {
   "cell_type": "code",
   "execution_count": null,
   "metadata": {
    "ExecuteTime": {
     "end_time": "2018-09-20T18:44:35.732367Z",
     "start_time": "2018-09-20T18:44:35.728864Z"
    }
   },
   "outputs": [],
   "source": [
    "def get_answers(submission_id):\n",
    "    url = \"https://canvas.csun.edu/api/v1/quiz_submissions/%s/questions\" % (submission_id)\n",
    "    return send_get_request(url)\n"
   ]
  },
  {
   "cell_type": "code",
   "execution_count": null,
   "metadata": {
    "ExecuteTime": {
     "end_time": "2018-09-20T18:44:50.945909Z",
     "start_time": "2018-09-20T18:44:50.481663Z"
    }
   },
   "outputs": [],
   "source": [
    "get_answers(9789591)"
   ]
  },
  {
   "cell_type": "code",
   "execution_count": null,
   "metadata": {
    "ExecuteTime": {
     "end_time": "2018-09-20T18:57:48.869408Z",
     "start_time": "2018-09-20T18:57:48.346596Z"
    }
   },
   "outputs": [],
   "source": [
    "submission_id = 9789593\n",
    "# url = \"https://canvas.csun.edu/api/v1/quiz_submissions/%s/questions\" % (submission_id)\n",
    "url = \"https://canvas.csun.edu/api/v1/courses/41179/quiz_submissions/%s/questions\"  % (submission_id)\n",
    "# url = 'https://canvas.csun.edu/courses/41179/quizzes/100843/history?quiz_submission_id=1158384&version=1'\n",
    "head = {'Authorization': 'Bearer {}'.format(environment.TOKEN)}\n",
    "response = requests.get(url, headers=head)\n"
   ]
  },
  {
   "cell_type": "code",
   "execution_count": null,
   "metadata": {
    "ExecuteTime": {
     "end_time": "2018-09-20T18:57:49.549722Z",
     "start_time": "2018-09-20T18:57:49.546112Z"
    }
   },
   "outputs": [],
   "source": [
    "response.status_code"
   ]
  },
  {
   "cell_type": "code",
   "execution_count": null,
   "metadata": {
    "ExecuteTime": {
     "end_time": "2018-09-20T18:57:50.764691Z",
     "start_time": "2018-09-20T18:57:50.760503Z"
    }
   },
   "outputs": [],
   "source": [
    "response.text"
   ]
  },
  {
   "cell_type": "markdown",
   "metadata": {},
   "source": [
    "# reports"
   ]
  },
  {
   "cell_type": "markdown",
   "metadata": {},
   "source": [
    "The URL to use is /api/v1/courses/{CourseId}/quizzes/{QuizId}/reports. Add a form parameter to the header : quiz_report[report_type]=student_analysis. You will get back a Json object and two of its members are a filename and report id. Use the report id to go to /api/v1/courses/{CourseId}/quizzes/{QuizId}/reports/{ReportId}. This will then return the downloaded csv file.\n",
    "\n",
    " "
   ]
  },
  {
   "cell_type": "code",
   "execution_count": 6,
   "metadata": {
    "ExecuteTime": {
     "end_time": "2018-09-21T00:09:40.900458Z",
     "start_time": "2018-09-21T00:09:40.896466Z"
    }
   },
   "outputs": [],
   "source": [
    "course_id = SECTION_930\n",
    "quiz_id = 100843\n",
    "report_id = 40084\n",
    "\n",
    "url = make_url(course_id, 'quizzes')\n",
    "head = {'Authorization': 'Bearer {}'.format(environment.TOKEN)}\n"
   ]
  },
  {
   "cell_type": "code",
   "execution_count": null,
   "metadata": {
    "ExecuteTime": {
     "end_time": "2018-09-20T23:29:45.829629Z",
     "start_time": "2018-09-20T23:29:45.297664Z"
    }
   },
   "outputs": [],
   "source": [
    "# Create the student report\n",
    "url = \"%s/%s/reports\" % (url, quiz_id)\n",
    "dt = {'quiz_report': {'report_type': 'student_analysis'}, 'include': 'file'}\n",
    "print(url)\n",
    "\n",
    "response1 = requests.post(url, headers=head, json=dt)\n",
    "r1 = response1.json()\n",
    "\n",
    "# report_id = "
   ]
  },
  {
   "cell_type": "code",
   "execution_count": 7,
   "metadata": {
    "ExecuteTime": {
     "end_time": "2018-09-21T00:10:27.768309Z",
     "start_time": "2018-09-21T00:10:27.224378Z"
    }
   },
   "outputs": [
    {
     "name": "stdout",
     "output_type": "stream",
     "text": [
      "https://canvas.csun.edu/api/v1/courses/41179/quizzes/100843/reports/40084\n",
      "https://canvas.csun.edu/files/4676929/download?download_frd=1&verifier=z1ERTI1raBBIhIzinTkVp9mpPQx2zihJDXb3cY9S\n",
      "Persuasive advertising, autonomy, and the creation of desire Quiz Student Analysis Report.csv\n"
     ]
    }
   ],
   "source": [
    "# retrieve the report file information\n",
    "url = \"%s/%s\" % (url, report_id)\n",
    "dt = { 'include': 'file'}\n",
    "print(url)\n",
    "response2 = requests.get(url, headers=head, json=dt)\n",
    "r2 = response2.json()\n",
    "\n",
    "# Link to the resource \n",
    "file_url = r2['file']['url']\n",
    "file_name =  r2['file']['display_name']\n",
    "print(file_url)\n",
    "print(file_name)"
   ]
  },
  {
   "cell_type": "code",
   "execution_count": 9,
   "metadata": {
    "ExecuteTime": {
     "end_time": "2018-09-21T00:10:49.831533Z",
     "start_time": "2018-09-21T00:10:48.391375Z"
    }
   },
   "outputs": [
    {
     "data": {
      "text/plain": [
       "77268"
      ]
     },
     "execution_count": 9,
     "metadata": {},
     "output_type": "execute_result"
    }
   ],
   "source": [
    "# download file\n",
    "file_response = requests.get(file_url, headers=head)\n",
    "# response.json()\n",
    "\n",
    "# write to temp\n",
    "destination = \"%s/%s\" % (environment.TEMP_DATA_PATH, file_name)\n",
    "open(destination, 'wb').write(file_response.content)"
   ]
  },
  {
   "cell_type": "code",
   "execution_count": null,
   "metadata": {},
   "outputs": [],
   "source": []
  },
  {
   "cell_type": "code",
   "execution_count": null,
   "metadata": {},
   "outputs": [],
   "source": []
  },
  {
   "cell_type": "code",
   "execution_count": null,
   "metadata": {},
   "outputs": [],
   "source": []
  },
  {
   "cell_type": "code",
   "execution_count": null,
   "metadata": {},
   "outputs": [],
   "source": []
  },
  {
   "cell_type": "code",
   "execution_count": null,
   "metadata": {
    "ExecuteTime": {
     "end_time": "2018-09-20T23:40:05.578652Z",
     "start_time": "2018-09-20T23:40:05.566176Z"
    }
   },
   "outputs": [],
   "source": [
    "response.content"
   ]
  },
  {
   "cell_type": "markdown",
   "metadata": {},
   "source": [
    "# submissions"
   ]
  },
  {
   "cell_type": "code",
   "execution_count": null,
   "metadata": {
    "ExecuteTime": {
     "end_time": "2018-09-20T23:19:48.306393Z",
     "start_time": "2018-09-20T23:19:47.859646Z"
    }
   },
   "outputs": [],
   "source": [
    "submission_id = 1164462\n",
    "course_id = SECTION_930\n",
    "quiz_id = 100843\n",
    "\n",
    "url = make_url(course_id, 'quizzes')\n",
    "url = \"%s/%s/submissions/%s\" % (url, quiz_id, submission_id )\n",
    "print(url)\n",
    "\n",
    "head = {'Authorization': 'Bearer {}'.format(environment.TOKEN),\n",
    "       'include': 'quiz_question'\n",
    "       }\n",
    "response = requests.get(url, headers=head)\n"
   ]
  },
  {
   "cell_type": "code",
   "execution_count": null,
   "metadata": {
    "ExecuteTime": {
     "end_time": "2018-09-20T23:19:48.313117Z",
     "start_time": "2018-09-20T23:19:48.308863Z"
    }
   },
   "outputs": [],
   "source": [
    "response.json()"
   ]
  },
  {
   "cell_type": "code",
   "execution_count": null,
   "metadata": {
    "ExecuteTime": {
     "end_time": "2018-09-20T19:25:58.553468Z",
     "start_time": "2018-09-20T19:25:58.086666Z"
    }
   },
   "outputs": [],
   "source": [
    "# make reports\n",
    "url = \"https://canvas.csun.edu/api/v1/courses/41179/quizzes/100843/reports/40084\"\n",
    "head = {'Authorization': 'Bearer {}'.format(environment.TOKEN)\n",
    "       }\n",
    "response = requests.get(url, headers=head)\n"
   ]
  },
  {
   "cell_type": "code",
   "execution_count": null,
   "metadata": {
    "ExecuteTime": {
     "end_time": "2018-09-20T19:26:01.033608Z",
     "start_time": "2018-09-20T19:26:01.027176Z"
    }
   },
   "outputs": [],
   "source": [
    "response"
   ]
  },
  {
   "cell_type": "code",
   "execution_count": null,
   "metadata": {
    "ExecuteTime": {
     "end_time": "2018-09-20T19:26:48.564433Z",
     "start_time": "2018-09-20T19:26:48.560163Z"
    }
   },
   "outputs": [],
   "source": [
    "response.text"
   ]
  },
  {
   "cell_type": "code",
   "execution_count": null,
   "metadata": {},
   "outputs": [],
   "source": []
  }
 ],
 "metadata": {
  "kernelspec": {
   "display_name": "Python 3",
   "language": "python",
   "name": "python3"
  },
  "language_info": {
   "codemirror_mode": {
    "name": "ipython",
    "version": 3
   },
   "file_extension": ".py",
   "mimetype": "text/x-python",
   "name": "python",
   "nbconvert_exporter": "python",
   "pygments_lexer": "ipython3",
   "version": "3.6.4"
  },
  "latex_envs": {
   "LaTeX_envs_menu_present": true,
   "autoclose": false,
   "autocomplete": true,
   "bibliofile": "biblio.bib",
   "cite_by": "apalike",
   "current_citInitial": 1,
   "eqLabelWithNumbers": true,
   "eqNumInitial": 1,
   "hotkeys": {
    "equation": "Ctrl-E",
    "itemize": "Ctrl-I"
   },
   "labels_anchors": false,
   "latex_user_defs": false,
   "report_style_numbering": false,
   "user_envs_cfg": false
  },
  "toc": {
   "base_numbering": 1,
   "nav_menu": {},
   "number_sections": true,
   "sideBar": true,
   "skip_h1_title": false,
   "title_cell": "Table of Contents",
   "title_sidebar": "Contents",
   "toc_cell": false,
   "toc_position": {},
   "toc_section_display": true,
   "toc_window_display": false
  }
 },
 "nbformat": 4,
 "nbformat_minor": 2
}
