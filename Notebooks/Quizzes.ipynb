{
 "cells": [
  {
   "cell_type": "code",
   "execution_count": 1,
   "metadata": {
    "ExecuteTime": {
     "end_time": "2018-09-21T00:28:29.666177Z",
     "start_time": "2018-09-21T00:28:29.560970Z"
    }
   },
   "outputs": [
    {
     "name": "stdout",
     "output_type": "stream",
     "text": [
      "/Users/adam/Dropbox/CanvasTools\n",
      "Reading credentials from /Users/adam/Dropbox/CanvasTools/private/canvas-credentials.ini\n",
      "Reading credentials from /Users/adam/Dropbox/CanvasTools/private/canvas-credentials.ini\n"
     ]
    }
   ],
   "source": [
    "%cd ~/Dropbox/CanvasTools\n",
    "\n",
    "import environment\n",
    "import os\n",
    "import sys\n",
    "import configparser\n",
    "\n",
    "import requests\n",
    "\n",
    "# Load api token and section numbers\n",
    "print(\"Reading credentials from %s\" % environment.CREDENTIALS_FILE)\n",
    "config = configparser.ConfigParser()\n",
    "config.read( environment.CREDENTIALS_FILE)\n",
    "\n",
    "TOKEN = config['credentials'].get('TOKEN')\n",
    "SECTION_930 = config['sections'].getint('930')\n",
    "SECTION_1100 = config['sections'].getint('1100')\n",
    "SECTION_1230 = config['sections'].getint('1230')\n",
    "URL_BASE = config['url'].get('BASE')"
   ]
  },
  {
   "cell_type": "code",
   "execution_count": 3,
   "metadata": {
    "ExecuteTime": {
     "end_time": "2018-09-21T00:28:50.360411Z",
     "start_time": "2018-09-21T00:28:50.357229Z"
    }
   },
   "outputs": [],
   "source": [
    "from CanvasTools.UrlTools import make_url\n",
    "from CanvasTools.RequestTools import send_get_request, make_request_header"
   ]
  },
  {
   "cell_type": "markdown",
   "metadata": {},
   "source": [
    "# Get list of quizzes\n",
    "\n",
    " GET /api/v1/courses/:course_id/quizzes "
   ]
  },
  {
   "cell_type": "code",
   "execution_count": null,
   "metadata": {
    "ExecuteTime": {
     "end_time": "2018-09-21T00:16:13.519138Z",
     "start_time": "2018-09-21T00:16:13.514896Z"
    }
   },
   "outputs": [],
   "source": [
    "# Get quiz list\n",
    "def get_all_course_quizzes(course_id):\n",
    "    \"\"\"Returns a list of all the assignments for the course\n",
    "    Uses api: GET /api/v1/courses/:course_id/quizzes\n",
    "    \"\"\"\n",
    "    url = make_url(course_id, 'quizzes')\n",
    "    return send_get_request(url)\n",
    "\n",
    "\n",
    "def get_quiz(course_id, quiz_id):\n",
    "    \"\"\"Retrieves the specified quiz and returns it as a dictionary\"\"\"\n",
    "    url = make_url(course_id, 'quizzes')\n",
    "    url = \"%s/%s\" % (url, quiz_id)\n",
    "    print(url)\n",
    "#     return send_get_request(url)"
   ]
  },
  {
   "cell_type": "code",
   "execution_count": null,
   "metadata": {
    "ExecuteTime": {
     "end_time": "2018-09-21T00:20:13.596476Z",
     "start_time": "2018-09-21T00:20:12.769658Z"
    }
   },
   "outputs": [],
   "source": [
    "get_all_course_quizzes(SECTION_1230)"
   ]
  },
  {
   "cell_type": "code",
   "execution_count": null,
   "metadata": {
    "ExecuteTime": {
     "end_time": "2018-09-20T18:56:58.424351Z",
     "start_time": "2018-09-20T18:56:58.421384Z"
    }
   },
   "outputs": [],
   "source": [
    "get_quiz(SECTION_930, 100843)"
   ]
  },
  {
   "cell_type": "code",
   "execution_count": null,
   "metadata": {
    "ExecuteTime": {
     "end_time": "2018-09-20T18:44:50.945909Z",
     "start_time": "2018-09-20T18:44:50.481663Z"
    }
   },
   "outputs": [],
   "source": [
    "get_answers(9789591)"
   ]
  },
  {
   "cell_type": "code",
   "execution_count": null,
   "metadata": {
    "ExecuteTime": {
     "end_time": "2018-09-20T18:57:49.549722Z",
     "start_time": "2018-09-20T18:57:49.546112Z"
    }
   },
   "outputs": [],
   "source": [
    "response.status_code"
   ]
  },
  {
   "cell_type": "code",
   "execution_count": null,
   "metadata": {
    "ExecuteTime": {
     "end_time": "2018-09-20T18:57:50.764691Z",
     "start_time": "2018-09-20T18:57:50.760503Z"
    }
   },
   "outputs": [],
   "source": [
    "response.text"
   ]
  },
  {
   "cell_type": "code",
   "execution_count": 4,
   "metadata": {
    "ExecuteTime": {
     "end_time": "2018-09-21T00:33:09.525635Z",
     "start_time": "2018-09-21T00:33:09.521015Z"
    }
   },
   "outputs": [],
   "source": [
    "quizzes = [(SECTION_930, 100843),(SECTION_1100, 100849), (SECTION_1230, 100850)]"
   ]
  },
  {
   "cell_type": "code",
   "execution_count": null,
   "metadata": {},
   "outputs": [],
   "source": []
  },
  {
   "cell_type": "markdown",
   "metadata": {},
   "source": [
    "# reports"
   ]
  },
  {
   "cell_type": "markdown",
   "metadata": {},
   "source": [
    "The URL to use is /api/v1/courses/{CourseId}/quizzes/{QuizId}/reports. Add a form parameter to the header : quiz_report[report_type]=student_analysis. You will get back a Json object and two of its members are a filename and report id. Use the report id to go to /api/v1/courses/{CourseId}/quizzes/{QuizId}/reports/{ReportId}. This will then return the downloaded csv file.\n",
    "\n",
    " "
   ]
  },
  {
   "cell_type": "code",
   "execution_count": 7,
   "metadata": {
    "ExecuteTime": {
     "end_time": "2018-09-21T00:35:18.987680Z",
     "start_time": "2018-09-21T00:35:18.984349Z"
    }
   },
   "outputs": [],
   "source": [
    "course_id = SECTION_1230\n",
    "quiz_id = 100850"
   ]
  },
  {
   "cell_type": "code",
   "execution_count": 15,
   "metadata": {
    "ExecuteTime": {
     "end_time": "2018-09-21T00:38:56.506443Z",
     "start_time": "2018-09-21T00:38:56.498818Z"
    }
   },
   "outputs": [],
   "source": [
    "def download_student_reports(quiz_tuples):\n",
    "    for course_id, quiz_id in quiz_tuples:\n",
    "        # Create the student report\n",
    "        url = make_url(course_id, 'quizzes')\n",
    "        url = \"%s/%s/reports\" % (url, quiz_id)\n",
    "        dt = {'quiz_report': {'report_type': 'student_analysis'}, 'include': 'file'}\n",
    "        print(url)\n",
    "        response1 = requests.post(url, headers=make_request_header(), json=dt)\n",
    "        r1 = response1.json()\n",
    "        # The id of the newly created report\n",
    "        report_id = r1['id']\n",
    "\n",
    "        # retrieve the report file information\n",
    "        url = \"%s/%s\" % (url, report_id)\n",
    "        dt = { 'include': 'file'}\n",
    "        print(url)\n",
    "        response2 = requests.get(url, headers=make_request_header(), json=dt)\n",
    "        r2 = response2.json()\n",
    "\n",
    "        # Link to the resource \n",
    "        file_url = r2['file']['url']\n",
    "        file_name =  \"%s %s\" % (course_id, r2['file']['display_name'])\n",
    "\n",
    "        # download file\n",
    "        print(file_url)\n",
    "        file_response = requests.get(file_url, headers=make_request_header())\n",
    "\n",
    "        # write to temp\n",
    "        destination = \"%s/%s\" % (environment.TEMP_DATA_PATH, file_name)\n",
    "        print(\"Writing to %s\" % destination)\n",
    "        open(destination, 'wb').write(file_response.content)"
   ]
  },
  {
   "cell_type": "code",
   "execution_count": 16,
   "metadata": {
    "ExecuteTime": {
     "end_time": "2018-09-21T00:39:04.628302Z",
     "start_time": "2018-09-21T00:38:57.329413Z"
    },
    "deletable": false,
    "editable": false,
    "run_control": {
     "frozen": true
    }
   },
   "outputs": [
    {
     "name": "stdout",
     "output_type": "stream",
     "text": [
      "https://canvas.csun.edu/api/v1/courses/41179/quizzes/100843/reports\n",
      "https://canvas.csun.edu/api/v1/courses/41179/quizzes/100843/reports/40084\n",
      "https://canvas.csun.edu/files/4676929/download?download_frd=1&verifier=z1ERTI1raBBIhIzinTkVp9mpPQx2zihJDXb3cY9S\n",
      "Writing to /Users/adam/Dropbox/CanvasTools/temp/41179 Persuasive advertising, autonomy, and the creation of desire Quiz Student Analysis Report.csv\n",
      "https://canvas.csun.edu/api/v1/courses/41180/quizzes/100849/reports\n",
      "https://canvas.csun.edu/api/v1/courses/41180/quizzes/100849/reports/40141\n",
      "https://canvas.csun.edu/files/4677319/download?download_frd=1&verifier=RQtHNYuwOPYhpjknh2prf9ZNnpDq4wCeRwDyqyLQ\n",
      "Writing to /Users/adam/Dropbox/CanvasTools/temp/41180 Persuasive advertising, autonomy, and the creation of desire Quiz Student Analysis Report.csv\n",
      "https://canvas.csun.edu/api/v1/courses/41181/quizzes/100850/reports\n",
      "https://canvas.csun.edu/api/v1/courses/41181/quizzes/100850/reports/40142\n",
      "https://canvas.csun.edu/files/4677347/download?download_frd=1&verifier=du2MifKbJS7smi6bLeFRoLJcRezkNnkfvReuhJnW\n",
      "Writing to /Users/adam/Dropbox/CanvasTools/temp/41181 Persuasive advertising, autonomy, and the creation of desire Quiz Student Analysis Report.csv\n"
     ]
    }
   ],
   "source": [
    "download_student_reports(quizzes)"
   ]
  },
  {
   "cell_type": "code",
   "execution_count": null,
   "metadata": {},
   "outputs": [],
   "source": []
  },
  {
   "cell_type": "code",
   "execution_count": 9,
   "metadata": {
    "ExecuteTime": {
     "end_time": "2018-09-21T00:36:12.138541Z",
     "start_time": "2018-09-21T00:36:11.662225Z"
    }
   },
   "outputs": [
    {
     "name": "stdout",
     "output_type": "stream",
     "text": [
      "https://canvas.csun.edu/api/v1/courses/41181/quizzes/100850/reports/40143\n"
     ]
    }
   ],
   "source": [
    "def download_item_reports(quiz_tuples):\n",
    "    for course_id, quiz_id in quiz_tuples:\n",
    "        # Create the item report\n",
    "        url = make_url(course_id, 'quizzes')\n",
    "        url = \"%s/%s/reports\" % (url, quiz_id)\n",
    "        dt = {'quiz_report': {'report_type': 'item_analysis'}, 'include': 'file'}\n",
    "        print(url)\n",
    "        response1 = requests.post(url, headers=make_request_header(), json=dt)\n",
    "        r1 = response1.json()\n",
    "\n",
    "        # The id of the newly created report\n",
    "        report_id = r1['id']\n",
    "\n",
    "        # retrieve the report file information\n",
    "        url = \"%s/%s\" % (url, report_id)\n",
    "        dt = { 'include': 'file'}\n",
    "        print(url)\n",
    "        response2 = requests.get(url, headers=make_request_header(), json=dt)\n",
    "        r2 = response2.json()\n",
    "\n",
    "        r2\n",
    "\n",
    "        # Link to the resource \n",
    "        file_url = r2['file']['url']\n",
    "        file_name =  \"%s %s\" % (course_id, r2['file']['display_name'])\n",
    "\n",
    "        # download file\n",
    "        print(file_url)\n",
    "        file_response = requests.get(file_url, headers=make_request_header())\n",
    "\n",
    "        # write to temp\n",
    "        destination = \"%s/%s\" % (environment.TEMP_DATA_PATH, file_name)\n",
    "        print(\"Writing to %s\" % destination)\n",
    "        open(destination, 'wb').write(file_response.content)"
   ]
  },
  {
   "cell_type": "code",
   "execution_count": null,
   "metadata": {},
   "outputs": [],
   "source": []
  },
  {
   "cell_type": "code",
   "execution_count": 6,
   "metadata": {
    "ExecuteTime": {
     "end_time": "2018-09-21T00:33:26.970034Z",
     "start_time": "2018-09-21T00:33:25.816972Z"
    }
   },
   "outputs": [
    {
     "name": "stdout",
     "output_type": "stream",
     "text": [
      "https://canvas.csun.edu/api/v1/courses/41179/quizzes/100843/reports\n",
      "https://canvas.csun.edu/api/v1/courses/41179/quizzes/100843/reports/40085\n"
     ]
    },
    {
     "ename": "KeyError",
     "evalue": "'file'",
     "output_type": "error",
     "traceback": [
      "\u001b[0;31m---------------------------------------------------------------------------\u001b[0m",
      "\u001b[0;31mKeyError\u001b[0m                                  Traceback (most recent call last)",
      "\u001b[0;32m<ipython-input-6-645b8872f118>\u001b[0m in \u001b[0;36m<module>\u001b[0;34m()\u001b[0m\n\u001b[0;32m----> 1\u001b[0;31m \u001b[0mdownload_item_reports\u001b[0m\u001b[0;34m(\u001b[0m\u001b[0mquizzes\u001b[0m\u001b[0;34m)\u001b[0m\u001b[0;34m\u001b[0m\u001b[0m\n\u001b[0m",
      "\u001b[0;32m<ipython-input-5-de38a48fa178>\u001b[0m in \u001b[0;36mdownload_item_reports\u001b[0;34m(quiz_tuples)\u001b[0m\n\u001b[1;32m     20\u001b[0m \u001b[0;34m\u001b[0m\u001b[0m\n\u001b[1;32m     21\u001b[0m         \u001b[0;31m# Link to the resource\u001b[0m\u001b[0;34m\u001b[0m\u001b[0;34m\u001b[0m\u001b[0m\n\u001b[0;32m---> 22\u001b[0;31m         \u001b[0mfile_url\u001b[0m \u001b[0;34m=\u001b[0m \u001b[0mr2\u001b[0m\u001b[0;34m[\u001b[0m\u001b[0;34m'file'\u001b[0m\u001b[0;34m]\u001b[0m\u001b[0;34m[\u001b[0m\u001b[0;34m'url'\u001b[0m\u001b[0;34m]\u001b[0m\u001b[0;34m\u001b[0m\u001b[0m\n\u001b[0m\u001b[1;32m     23\u001b[0m         \u001b[0mfile_name\u001b[0m \u001b[0;34m=\u001b[0m  \u001b[0;34m\"%s %s\"\u001b[0m \u001b[0;34m%\u001b[0m \u001b[0;34m(\u001b[0m\u001b[0mcourse_id\u001b[0m\u001b[0;34m,\u001b[0m \u001b[0mr2\u001b[0m\u001b[0;34m[\u001b[0m\u001b[0;34m'file'\u001b[0m\u001b[0;34m]\u001b[0m\u001b[0;34m[\u001b[0m\u001b[0;34m'display_name'\u001b[0m\u001b[0;34m]\u001b[0m\u001b[0;34m)\u001b[0m\u001b[0;34m\u001b[0m\u001b[0m\n\u001b[1;32m     24\u001b[0m \u001b[0;34m\u001b[0m\u001b[0m\n",
      "\u001b[0;31mKeyError\u001b[0m: 'file'"
     ]
    }
   ],
   "source": [
    "download_item_reports(quizzes)"
   ]
  },
  {
   "cell_type": "code",
   "execution_count": null,
   "metadata": {},
   "outputs": [],
   "source": []
  },
  {
   "cell_type": "markdown",
   "metadata": {},
   "source": [
    "# Get and store data about quizzes and questions"
   ]
  },
  {
   "cell_type": "markdown",
   "metadata": {},
   "source": [
    "## Quiz questions\n",
    "\n",
    "GET /api/v1/courses/:course_id/quizzes/:quiz_id/questions "
   ]
  },
  {
   "cell_type": "code",
   "execution_count": 18,
   "metadata": {
    "ExecuteTime": {
     "end_time": "2018-09-21T00:47:32.702145Z",
     "start_time": "2018-09-21T00:47:32.697113Z"
    }
   },
   "outputs": [
    {
     "name": "stdout",
     "output_type": "stream",
     "text": [
      "https://canvas.csun.edu/api/v1/courses/41179/quizzes/100843/questions\n"
     ]
    }
   ],
   "source": [
    "course_id = SECTION_930\n",
    "quiz_id = 100843\n",
    "\n",
    "url = make_url(course_id, 'quizzes')\n",
    "url = \"%s/%s/questions\" % (url, quiz_id)\n",
    "print(url)"
   ]
  },
  {
   "cell_type": "code",
   "execution_count": 19,
   "metadata": {
    "ExecuteTime": {
     "end_time": "2018-09-21T00:47:53.569740Z",
     "start_time": "2018-09-21T00:47:53.039790Z"
    },
    "collapsed": true
   },
   "outputs": [
    {
     "data": {
      "text/plain": [
       "[{'id': 1785087,\n",
       "  'quiz_id': 100843,\n",
       "  'quiz_group_id': None,\n",
       "  'assessment_question_id': 5158108,\n",
       "  'position': None,\n",
       "  'question_name': 'Question',\n",
       "  'question_type': 'essay_question',\n",
       "  'question_text': \"<p>What is an example of persuasive advertising?</p>\\n<p>(Don't use Crisp's examples)</p>\",\n",
       "  'points_possible': 1.0,\n",
       "  'correct_comments': '',\n",
       "  'incorrect_comments': '',\n",
       "  'neutral_comments': '',\n",
       "  'correct_comments_html': '',\n",
       "  'incorrect_comments_html': '',\n",
       "  'neutral_comments_html': '',\n",
       "  'answers': [],\n",
       "  'variables': None,\n",
       "  'formulas': None,\n",
       "  'answer_tolerance': None,\n",
       "  'formula_decimal_places': None,\n",
       "  'matches': None,\n",
       "  'matching_answer_incorrect_matches': None},\n",
       " {'id': 1785088,\n",
       "  'quiz_id': 100843,\n",
       "  'quiz_group_id': None,\n",
       "  'assessment_question_id': 5158109,\n",
       "  'position': None,\n",
       "  'question_name': 'Question',\n",
       "  'question_type': 'essay_question',\n",
       "  'question_text': \"<p>What is an example of informational advertising?</p>\\n<p>(Don't use Crisp's examples)</p>\",\n",
       "  'points_possible': 1.0,\n",
       "  'correct_comments': '',\n",
       "  'incorrect_comments': '',\n",
       "  'neutral_comments': '',\n",
       "  'correct_comments_html': '',\n",
       "  'incorrect_comments_html': '',\n",
       "  'neutral_comments_html': '',\n",
       "  'answers': [],\n",
       "  'variables': None,\n",
       "  'formulas': None,\n",
       "  'answer_tolerance': None,\n",
       "  'formula_decimal_places': None,\n",
       "  'matches': None,\n",
       "  'matching_answer_incorrect_matches': None},\n",
       " {'id': 1785089,\n",
       "  'quiz_id': 100843,\n",
       "  'quiz_group_id': None,\n",
       "  'assessment_question_id': 5158110,\n",
       "  'position': None,\n",
       "  'question_name': 'Question',\n",
       "  'question_type': 'essay_question',\n",
       "  'question_text': '<p>Why does it matter that the desires activated by persuasive advertising are unconscious?</p>',\n",
       "  'points_possible': 1.0,\n",
       "  'correct_comments': '',\n",
       "  'incorrect_comments': '',\n",
       "  'neutral_comments': '',\n",
       "  'correct_comments_html': '',\n",
       "  'incorrect_comments_html': '',\n",
       "  'neutral_comments_html': '',\n",
       "  'answers': [],\n",
       "  'variables': None,\n",
       "  'formulas': None,\n",
       "  'answer_tolerance': None,\n",
       "  'formula_decimal_places': None,\n",
       "  'matches': None,\n",
       "  'matching_answer_incorrect_matches': None},\n",
       " {'id': 1785090,\n",
       "  'quiz_id': 100843,\n",
       "  'quiz_group_id': None,\n",
       "  'assessment_question_id': 5158111,\n",
       "  'position': None,\n",
       "  'question_name': 'Question',\n",
       "  'question_type': 'essay_question',\n",
       "  'question_text': '<p>Give an example of informational advertising which Crisp might find objectionable</p>',\n",
       "  'points_possible': 1.0,\n",
       "  'correct_comments': '',\n",
       "  'incorrect_comments': '',\n",
       "  'neutral_comments': '',\n",
       "  'correct_comments_html': '',\n",
       "  'incorrect_comments_html': '',\n",
       "  'neutral_comments_html': '',\n",
       "  'answers': [],\n",
       "  'variables': None,\n",
       "  'formulas': None,\n",
       "  'answer_tolerance': None,\n",
       "  'formula_decimal_places': None,\n",
       "  'matches': None,\n",
       "  'matching_answer_incorrect_matches': None},\n",
       " {'id': 1785092,\n",
       "  'quiz_id': 100843,\n",
       "  'quiz_group_id': None,\n",
       "  'assessment_question_id': 5158113,\n",
       "  'position': None,\n",
       "  'question_name': 'Question',\n",
       "  'question_type': 'essay_question',\n",
       "  'question_text': \"<p>Suppose that a movie theater projectionist accidentally splices a picture of ice cream into a movie so that it appears for the same amount of time as the alleged subliminal advertising Crisp discusses. If someone in the audience buys ice cream due to this influence, is their choice autonomous on Crisp's account?</p>\\n<p>(Hint: Look at what he says about the jacket purchase vs. the ice cream case)</p>\",\n",
       "  'points_possible': 1.0,\n",
       "  'correct_comments': '',\n",
       "  'incorrect_comments': '',\n",
       "  'neutral_comments': '',\n",
       "  'correct_comments_html': '',\n",
       "  'incorrect_comments_html': '',\n",
       "  'neutral_comments_html': '',\n",
       "  'answers': [],\n",
       "  'variables': None,\n",
       "  'formulas': None,\n",
       "  'answer_tolerance': None,\n",
       "  'formula_decimal_places': None,\n",
       "  'matches': None,\n",
       "  'matching_answer_incorrect_matches': None},\n",
       " {'id': 1785094,\n",
       "  'quiz_id': 100843,\n",
       "  'quiz_group_id': None,\n",
       "  'assessment_question_id': 5158115,\n",
       "  'position': None,\n",
       "  'question_name': 'Question',\n",
       "  'question_type': 'essay_question',\n",
       "  'question_text': \"<p>Write your own reading comprehension question for students in next year's class. Explain the correct answer.</p>\",\n",
       "  'points_possible': 1.0,\n",
       "  'correct_comments': '',\n",
       "  'incorrect_comments': '',\n",
       "  'neutral_comments': '',\n",
       "  'correct_comments_html': '',\n",
       "  'incorrect_comments_html': '',\n",
       "  'neutral_comments_html': '',\n",
       "  'answers': [],\n",
       "  'variables': None,\n",
       "  'formulas': None,\n",
       "  'answer_tolerance': None,\n",
       "  'formula_decimal_places': None,\n",
       "  'matches': None,\n",
       "  'matching_answer_incorrect_matches': None}]"
      ]
     },
     "execution_count": 19,
     "metadata": {},
     "output_type": "execute_result"
    }
   ],
   "source": [
    "response = requests.get(url, headers=make_request_header())\n",
    "r = response.json()\n",
    "r\n"
   ]
  },
  {
   "cell_type": "code",
   "execution_count": null,
   "metadata": {},
   "outputs": [],
   "source": []
  },
  {
   "cell_type": "code",
   "execution_count": null,
   "metadata": {
    "ExecuteTime": {
     "end_time": "2018-09-20T23:40:05.578652Z",
     "start_time": "2018-09-20T23:40:05.566176Z"
    }
   },
   "outputs": [],
   "source": [
    "response.content"
   ]
  },
  {
   "cell_type": "markdown",
   "metadata": {},
   "source": [
    "# submissions"
   ]
  },
  {
   "cell_type": "code",
   "execution_count": null,
   "metadata": {},
   "outputs": [],
   "source": [
    "# get all quiz submissions\n",
    "# /api/v1/courses/:course_id/quizzes/:quiz_id/submissions "
   ]
  },
  {
   "cell_type": "code",
   "execution_count": null,
   "metadata": {
    "ExecuteTime": {
     "end_time": "2018-09-20T23:07:36.069147Z",
     "start_time": "2018-09-20T23:07:36.065443Z"
    }
   },
   "outputs": [],
   "source": [
    "def get_quiz_submissions(course_id, quiz_id):\n",
    "    url = make_url(course_id, 'quizzes')\n",
    "    url = \"%s/%s/submissions\" % (url, quiz_id)\n",
    "    print(url)\n",
    "    return send_get_request(url)"
   ]
  },
  {
   "cell_type": "code",
   "execution_count": null,
   "metadata": {
    "ExecuteTime": {
     "end_time": "2018-09-20T23:07:38.209311Z",
     "start_time": "2018-09-20T23:07:37.615139Z"
    }
   },
   "outputs": [],
   "source": [
    "get_quiz_submissions(SECTION_930, 100843)"
   ]
  },
  {
   "cell_type": "code",
   "execution_count": null,
   "metadata": {},
   "outputs": [],
   "source": [
    " GET /api/v1/quiz_submissions/:quiz_submission_id/questions "
   ]
  },
  {
   "cell_type": "code",
   "execution_count": null,
   "metadata": {
    "ExecuteTime": {
     "end_time": "2018-09-20T18:44:35.732367Z",
     "start_time": "2018-09-20T18:44:35.728864Z"
    }
   },
   "outputs": [],
   "source": [
    "def get_answers(submission_id):\n",
    "    url = \"https://canvas.csun.edu/api/v1/quiz_submissions/%s/questions\" % (submission_id)\n",
    "    return send_get_request(url)\n"
   ]
  },
  {
   "cell_type": "code",
   "execution_count": null,
   "metadata": {
    "ExecuteTime": {
     "end_time": "2018-09-20T23:19:48.306393Z",
     "start_time": "2018-09-20T23:19:47.859646Z"
    }
   },
   "outputs": [],
   "source": [
    "submission_id = 1164462\n",
    "course_id = SECTION_930\n",
    "quiz_id = 100843\n",
    "\n",
    "url = make_url(course_id, 'quizzes')\n",
    "url = \"%s/%s/submissions/%s\" % (url, quiz_id, submission_id )\n",
    "print(url)\n",
    "\n",
    "head = {'Authorization': 'Bearer {}'.format(environment.TOKEN),\n",
    "       'include': 'quiz_question'\n",
    "       }\n",
    "response = requests.get(url, headers=head)\n"
   ]
  },
  {
   "cell_type": "code",
   "execution_count": null,
   "metadata": {
    "ExecuteTime": {
     "end_time": "2018-09-20T18:57:48.869408Z",
     "start_time": "2018-09-20T18:57:48.346596Z"
    }
   },
   "outputs": [],
   "source": [
    "submission_id = 9789593\n",
    "# url = \"https://canvas.csun.edu/api/v1/quiz_submissions/%s/questions\" % (submission_id)\n",
    "url = \"https://canvas.csun.edu/api/v1/courses/41179/quiz_submissions/%s/questions\"  % (submission_id)\n",
    "# url = 'https://canvas.csun.edu/courses/41179/quizzes/100843/history?quiz_submission_id=1158384&version=1'\n",
    "head = {'Authorization': 'Bearer {}'.format(environment.TOKEN)}\n",
    "response = requests.get(url, headers=head)\n"
   ]
  },
  {
   "cell_type": "code",
   "execution_count": null,
   "metadata": {
    "ExecuteTime": {
     "end_time": "2018-09-20T23:19:48.313117Z",
     "start_time": "2018-09-20T23:19:48.308863Z"
    }
   },
   "outputs": [],
   "source": [
    "response.json()"
   ]
  },
  {
   "cell_type": "code",
   "execution_count": null,
   "metadata": {},
   "outputs": [],
   "source": []
  }
 ],
 "metadata": {
  "kernelspec": {
   "display_name": "Python 3",
   "language": "python",
   "name": "python3"
  },
  "language_info": {
   "codemirror_mode": {
    "name": "ipython",
    "version": 3
   },
   "file_extension": ".py",
   "mimetype": "text/x-python",
   "name": "python",
   "nbconvert_exporter": "python",
   "pygments_lexer": "ipython3",
   "version": "3.6.4"
  },
  "latex_envs": {
   "LaTeX_envs_menu_present": true,
   "autoclose": false,
   "autocomplete": true,
   "bibliofile": "biblio.bib",
   "cite_by": "apalike",
   "current_citInitial": 1,
   "eqLabelWithNumbers": true,
   "eqNumInitial": 1,
   "hotkeys": {
    "equation": "Ctrl-E",
    "itemize": "Ctrl-I"
   },
   "labels_anchors": false,
   "latex_user_defs": false,
   "report_style_numbering": false,
   "user_envs_cfg": false
  },
  "toc": {
   "base_numbering": 1,
   "nav_menu": {},
   "number_sections": true,
   "sideBar": true,
   "skip_h1_title": false,
   "title_cell": "Table of Contents",
   "title_sidebar": "Contents",
   "toc_cell": false,
   "toc_position": {},
   "toc_section_display": true,
   "toc_window_display": false
  }
 },
 "nbformat": 4,
 "nbformat_minor": 2
}
